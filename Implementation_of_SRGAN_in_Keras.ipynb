{
  "nbformat": 4,
  "nbformat_minor": 0,
  "metadata": {
    "colab": {
      "name": "Implementation of SRGAN in Keras.ipynb",
      "provenance": [],
      "collapsed_sections": [],
      "authorship_tag": "ABX9TyPc8MgBRAw9pIsIWwTopgKW",
      "include_colab_link": true
    },
    "kernelspec": {
      "name": "python3",
      "display_name": "Python 3"
    },
    "accelerator": "GPU"
  },
  "cells": [
    {
      "cell_type": "markdown",
      "metadata": {
        "id": "view-in-github",
        "colab_type": "text"
      },
      "source": [
        "<a href=\"https://colab.research.google.com/github/Dipon12/Implementation-of-SRGAN-in-Keras/blob/master/Implementation_of_SRGAN_in_Keras.ipynb\" target=\"_parent\"><img src=\"https://colab.research.google.com/assets/colab-badge.svg\" alt=\"Open In Colab\"/></a>"
      ]
    },
    {
      "cell_type": "code",
      "metadata": {
        "id": "XLsFHVTk8F4n",
        "colab_type": "code",
        "outputId": "32bdbee2-6782-4bfc-baa3-4e197d246820",
        "colab": {
          "base_uri": "https://localhost:8080/",
          "height": 35
        }
      },
      "source": [
        "import tensorflow as tf\n",
        "from tensorflow import keras\n",
        "import numpy as np\n",
        "import matplotlib.pyplot as plt\n",
        "import os\n",
        "from tensorflow.keras.preprocessing.image import load_img,img_to_array\n",
        "from tqdm import tqdm\n",
        "\n",
        "print(tf.__version__)"
      ],
      "execution_count": 1,
      "outputs": [
        {
          "output_type": "stream",
          "text": [
            "2.2.0\n"
          ],
          "name": "stdout"
        }
      ]
    },
    {
      "cell_type": "markdown",
      "metadata": {
        "id": "dEcz4MNgC17P",
        "colab_type": "text"
      },
      "source": [
        "# Generator"
      ]
    },
    {
      "cell_type": "code",
      "metadata": {
        "id": "MUldrwO68w49",
        "colab_type": "code",
        "outputId": "4f8b4679-7a3e-45f3-aae7-e3ec2c1cfc8c",
        "colab": {
          "base_uri": "https://localhost:8080/",
          "height": 1000
        }
      },
      "source": [
        "gen_input_layer = tf.keras.layers.Input(shape=(64,64,3)) #shape of low resolution image\n",
        "\n",
        "l1 = tf.keras.layers.Conv2D(filters=64, kernel_size=(9,9), strides=(1,1), padding='same', activation='relu')(gen_input_layer)\n",
        "l2 = tf.keras.layers.PReLU()(l1)\n",
        "\n",
        "#One Block of ResNet\n",
        "l3 = tf.keras.layers.Conv2D(filters=64, kernel_size=(3,3), strides=(1,1), padding='same', activation='relu')(l2)\n",
        "l4 = tf.keras.layers.BatchNormalization()(l3)\n",
        "l5 = tf.keras.layers.PReLU()(l4)\n",
        "l6 = tf.keras.layers.Conv2D(filters=64, kernel_size=(3,3), strides=(1,1), padding='same', activation='relu')(l5)\n",
        "l7 = tf.keras.layers.BatchNormalization()(l6)\n",
        "l8 = l7 + l2\n",
        "\n",
        "#One Block of ResNet\n",
        "l9 = tf.keras.layers.Conv2D(filters=64, kernel_size=(3,3), strides=(1,1), padding='same', activation='relu')(l8)\n",
        "l10 = tf.keras.layers.BatchNormalization()(l9)\n",
        "l11 = tf.keras.layers.PReLU()(l10)\n",
        "l12 = tf.keras.layers.Conv2D(filters=64, kernel_size=(3,3), strides=(1,1), padding='same', activation='relu')(l11)\n",
        "l13 = tf.keras.layers.BatchNormalization()(l12)\n",
        "l14 = l8 + l13\n",
        "\n",
        "#One Block of ResNet\n",
        "l15 = tf.keras.layers.Conv2D(filters=64, kernel_size=(3,3), strides=(1,1), padding='same', activation='relu')(l14)\n",
        "l16 = tf.keras.layers.BatchNormalization()(l15)\n",
        "l17 = tf.keras.layers.PReLU()(l16)\n",
        "l18 = tf.keras.layers.Conv2D(filters=64, kernel_size=(3,3), strides=(1,1), padding='same', activation='relu')(l17)\n",
        "l19 = tf.keras.layers.BatchNormalization()(l18)\n",
        "l20 = l18 + l14\n",
        "\n",
        "#One Block of ResNet\n",
        "l21 = tf.keras.layers.Conv2D(filters=64, kernel_size=(3,3), strides=(1,1), padding='same', activation='relu')(l20)\n",
        "l22 = tf.keras.layers.BatchNormalization()(l21)\n",
        "l23 = tf.keras.layers.PReLU()(l22)\n",
        "l24 = tf.keras.layers.Conv2D(filters=64, kernel_size=(3,3), strides=(1,1), padding='same', activation='relu')(l23)\n",
        "l25 = tf.keras.layers.BatchNormalization()(l24)\n",
        "l26 = l20 + l24\n",
        "\n",
        "#One Block of ResNet\n",
        "l27 = tf.keras.layers.Conv2D(filters=64, kernel_size=(3,3), strides=(1,1), padding='same', activation='relu')(l26)\n",
        "l28 = tf.keras.layers.BatchNormalization()(l27)\n",
        "l29 = tf.keras.layers.PReLU()(l28)\n",
        "l30 = tf.keras.layers.Conv2D(filters=64, kernel_size=(3,3), strides=(1,1), padding='same', activation='relu')(l29)\n",
        "l31 = tf.keras.layers.BatchNormalization()(l30)\n",
        "l32 = l26 + l31\n",
        "\n",
        "#Block of ResNet Ends\n",
        "\n",
        "\n",
        "l33 = tf.keras.layers.Conv2D(filters=64, kernel_size=(3,3), strides=(1,1), padding='same', activation='relu')(l32)\n",
        "l34 = tf.keras.layers.BatchNormalization()(l33)\n",
        "l35 = l2 + l34\n",
        "\n",
        "\n",
        "l36 = tf.keras.layers.UpSampling2D()(l35)\n",
        "l37 = tf.keras.layers.Conv2D(filters=256, kernel_size=(3,3), strides=(1,1), padding='same', activation='relu')(l36)\n",
        "l38 = tf.keras.layers.PReLU()(l37)\n",
        "\n",
        "l39 = tf.keras.layers.UpSampling2D()(l38)\n",
        "l40 = tf.keras.layers.Conv2D(filters=256, kernel_size=(3,3), strides=(1,1), padding='same', activation='relu')(l39)\n",
        "l41 = tf.keras.layers.PReLU()(l40)\n",
        "\n",
        "gen_out = tf.keras.layers.Conv2D(filters=3, kernel_size=(9,9), strides=(1,1), padding='same', activation='tanh')(l41)\n",
        "\n",
        "generator = tf.keras.Model(gen_input_layer,gen_out)\n",
        "\n",
        "\n",
        "generator.summary()"
      ],
      "execution_count": 10,
      "outputs": [
        {
          "output_type": "stream",
          "text": [
            "Model: \"model\"\n",
            "__________________________________________________________________________________________________\n",
            "Layer (type)                    Output Shape         Param #     Connected to                     \n",
            "==================================================================================================\n",
            "input_5 (InputLayer)            [(None, 64, 64, 3)]  0                                            \n",
            "__________________________________________________________________________________________________\n",
            "conv2d_8 (Conv2D)               (None, 64, 64, 64)   15616       input_5[0][0]                    \n",
            "__________________________________________________________________________________________________\n",
            "p_re_lu (PReLU)                 (None, 64, 64, 64)   262144      conv2d_8[0][0]                   \n",
            "__________________________________________________________________________________________________\n",
            "conv2d_9 (Conv2D)               (None, 64, 64, 64)   36928       p_re_lu[0][0]                    \n",
            "__________________________________________________________________________________________________\n",
            "batch_normalization_7 (BatchNor (None, 64, 64, 64)   256         conv2d_9[0][0]                   \n",
            "__________________________________________________________________________________________________\n",
            "p_re_lu_1 (PReLU)               (None, 64, 64, 64)   262144      batch_normalization_7[0][0]      \n",
            "__________________________________________________________________________________________________\n",
            "conv2d_10 (Conv2D)              (None, 64, 64, 64)   36928       p_re_lu_1[0][0]                  \n",
            "__________________________________________________________________________________________________\n",
            "batch_normalization_8 (BatchNor (None, 64, 64, 64)   256         conv2d_10[0][0]                  \n",
            "__________________________________________________________________________________________________\n",
            "tf_op_layer_AddV2 (TensorFlowOp [(None, 64, 64, 64)] 0           batch_normalization_8[0][0]      \n",
            "                                                                 p_re_lu[0][0]                    \n",
            "__________________________________________________________________________________________________\n",
            "conv2d_11 (Conv2D)              (None, 64, 64, 64)   36928       tf_op_layer_AddV2[0][0]          \n",
            "__________________________________________________________________________________________________\n",
            "batch_normalization_9 (BatchNor (None, 64, 64, 64)   256         conv2d_11[0][0]                  \n",
            "__________________________________________________________________________________________________\n",
            "p_re_lu_2 (PReLU)               (None, 64, 64, 64)   262144      batch_normalization_9[0][0]      \n",
            "__________________________________________________________________________________________________\n",
            "conv2d_12 (Conv2D)              (None, 64, 64, 64)   36928       p_re_lu_2[0][0]                  \n",
            "__________________________________________________________________________________________________\n",
            "batch_normalization_10 (BatchNo (None, 64, 64, 64)   256         conv2d_12[0][0]                  \n",
            "__________________________________________________________________________________________________\n",
            "tf_op_layer_AddV2_1 (TensorFlow [(None, 64, 64, 64)] 0           tf_op_layer_AddV2[0][0]          \n",
            "                                                                 batch_normalization_10[0][0]     \n",
            "__________________________________________________________________________________________________\n",
            "conv2d_13 (Conv2D)              (None, 64, 64, 64)   36928       tf_op_layer_AddV2_1[0][0]        \n",
            "__________________________________________________________________________________________________\n",
            "batch_normalization_11 (BatchNo (None, 64, 64, 64)   256         conv2d_13[0][0]                  \n",
            "__________________________________________________________________________________________________\n",
            "p_re_lu_3 (PReLU)               (None, 64, 64, 64)   262144      batch_normalization_11[0][0]     \n",
            "__________________________________________________________________________________________________\n",
            "conv2d_14 (Conv2D)              (None, 64, 64, 64)   36928       p_re_lu_3[0][0]                  \n",
            "__________________________________________________________________________________________________\n",
            "tf_op_layer_AddV2_2 (TensorFlow [(None, 64, 64, 64)] 0           conv2d_14[0][0]                  \n",
            "                                                                 tf_op_layer_AddV2_1[0][0]        \n",
            "__________________________________________________________________________________________________\n",
            "conv2d_15 (Conv2D)              (None, 64, 64, 64)   36928       tf_op_layer_AddV2_2[0][0]        \n",
            "__________________________________________________________________________________________________\n",
            "batch_normalization_13 (BatchNo (None, 64, 64, 64)   256         conv2d_15[0][0]                  \n",
            "__________________________________________________________________________________________________\n",
            "p_re_lu_4 (PReLU)               (None, 64, 64, 64)   262144      batch_normalization_13[0][0]     \n",
            "__________________________________________________________________________________________________\n",
            "conv2d_16 (Conv2D)              (None, 64, 64, 64)   36928       p_re_lu_4[0][0]                  \n",
            "__________________________________________________________________________________________________\n",
            "tf_op_layer_AddV2_3 (TensorFlow [(None, 64, 64, 64)] 0           tf_op_layer_AddV2_2[0][0]        \n",
            "                                                                 conv2d_16[0][0]                  \n",
            "__________________________________________________________________________________________________\n",
            "conv2d_17 (Conv2D)              (None, 64, 64, 64)   36928       tf_op_layer_AddV2_3[0][0]        \n",
            "__________________________________________________________________________________________________\n",
            "batch_normalization_15 (BatchNo (None, 64, 64, 64)   256         conv2d_17[0][0]                  \n",
            "__________________________________________________________________________________________________\n",
            "p_re_lu_5 (PReLU)               (None, 64, 64, 64)   262144      batch_normalization_15[0][0]     \n",
            "__________________________________________________________________________________________________\n",
            "conv2d_18 (Conv2D)              (None, 64, 64, 64)   36928       p_re_lu_5[0][0]                  \n",
            "__________________________________________________________________________________________________\n",
            "batch_normalization_16 (BatchNo (None, 64, 64, 64)   256         conv2d_18[0][0]                  \n",
            "__________________________________________________________________________________________________\n",
            "tf_op_layer_AddV2_4 (TensorFlow [(None, 64, 64, 64)] 0           tf_op_layer_AddV2_3[0][0]        \n",
            "                                                                 batch_normalization_16[0][0]     \n",
            "__________________________________________________________________________________________________\n",
            "conv2d_19 (Conv2D)              (None, 64, 64, 64)   36928       tf_op_layer_AddV2_4[0][0]        \n",
            "__________________________________________________________________________________________________\n",
            "batch_normalization_17 (BatchNo (None, 64, 64, 64)   256         conv2d_19[0][0]                  \n",
            "__________________________________________________________________________________________________\n",
            "tf_op_layer_AddV2_5 (TensorFlow [(None, 64, 64, 64)] 0           p_re_lu[0][0]                    \n",
            "                                                                 batch_normalization_17[0][0]     \n",
            "__________________________________________________________________________________________________\n",
            "up_sampling2d (UpSampling2D)    (None, 128, 128, 64) 0           tf_op_layer_AddV2_5[0][0]        \n",
            "__________________________________________________________________________________________________\n",
            "conv2d_20 (Conv2D)              (None, 128, 128, 256 147712      up_sampling2d[0][0]              \n",
            "__________________________________________________________________________________________________\n",
            "p_re_lu_6 (PReLU)               (None, 128, 128, 256 4194304     conv2d_20[0][0]                  \n",
            "__________________________________________________________________________________________________\n",
            "up_sampling2d_1 (UpSampling2D)  (None, 256, 256, 256 0           p_re_lu_6[0][0]                  \n",
            "__________________________________________________________________________________________________\n",
            "conv2d_21 (Conv2D)              (None, 256, 256, 256 590080      up_sampling2d_1[0][0]            \n",
            "__________________________________________________________________________________________________\n",
            "p_re_lu_7 (PReLU)               (None, 256, 256, 256 16777216    conv2d_21[0][0]                  \n",
            "__________________________________________________________________________________________________\n",
            "conv2d_22 (Conv2D)              (None, 256, 256, 3)  62211       p_re_lu_7[0][0]                  \n",
            "==================================================================================================\n",
            "Total params: 23,768,515\n",
            "Trainable params: 23,767,363\n",
            "Non-trainable params: 1,152\n",
            "__________________________________________________________________________________________________\n"
          ],
          "name": "stdout"
        }
      ]
    },
    {
      "cell_type": "markdown",
      "metadata": {
        "id": "Mno-xPFne31h",
        "colab_type": "text"
      },
      "source": [
        "# Discriminator"
      ]
    },
    {
      "cell_type": "code",
      "metadata": {
        "id": "3OoZnOsye6N5",
        "colab_type": "code",
        "outputId": "970f7664-cad7-497e-bf69-9d65c7a2ba0d",
        "colab": {
          "base_uri": "https://localhost:8080/",
          "height": 1000
        }
      },
      "source": [
        "discriminator = tf.keras.models.Sequential([\n",
        "          tf.keras.layers.Conv2D(filters=64, kernel_size=(3,3), strides=(1,1), padding='same', activation='relu',input_shape=(256,256,3)),\n",
        "          tf.keras.layers.LeakyReLU(),\n",
        "\n",
        "          tf.keras.layers.Conv2D(filters=64, kernel_size=(3,3), strides=(2,2),padding='same', activation='relu'),\n",
        "          tf.keras.layers.BatchNormalization(),\n",
        "          tf.keras.layers.LeakyReLU(),\n",
        "\n",
        "          tf.keras.layers.Conv2D(filters=128, kernel_size=(3,3), strides=(1,1),padding='same', activation='relu'),\n",
        "          tf.keras.layers.BatchNormalization(),\n",
        "          tf.keras.layers.LeakyReLU(),\n",
        "\n",
        "          tf.keras.layers.Conv2D(filters=128, kernel_size=(3,3), strides=(2,2),padding='same', activation='relu'),\n",
        "          tf.keras.layers.BatchNormalization(),\n",
        "          tf.keras.layers.LeakyReLU(),\n",
        "\n",
        "          tf.keras.layers.Conv2D(filters=256, kernel_size=(3,3), strides=(1,1),padding='same', activation='relu'),\n",
        "          tf.keras.layers.BatchNormalization(),\n",
        "          tf.keras.layers.LeakyReLU(),\n",
        "\n",
        "          tf.keras.layers.Conv2D(filters=256, kernel_size=(3,3), strides=(2,2),padding='same', activation='relu'),\n",
        "          tf.keras.layers.BatchNormalization(),\n",
        "          tf.keras.layers.LeakyReLU(),\n",
        "\n",
        "          tf.keras.layers.Conv2D(filters=512, kernel_size=(3,3), strides=(1,1),padding='same', activation='relu'),\n",
        "          tf.keras.layers.BatchNormalization(),\n",
        "          tf.keras.layers.LeakyReLU(),\n",
        "\n",
        "          tf.keras.layers.Conv2D(filters=512, kernel_size=(3,3), strides=(2,2),padding='same', activation='relu'),\n",
        "          tf.keras.layers.BatchNormalization(),\n",
        "          tf.keras.layers.LeakyReLU(),\n",
        "\n",
        "          tf.keras.layers.Flatten(),\n",
        "          tf.keras.layers.Dense(units=1024),\n",
        "          tf.keras.layers.LeakyReLU(),\n",
        "\n",
        "          tf.keras.layers.Dense(units=1,activation='sigmoid')\n",
        "])\n",
        "\n",
        "discriminator.summary()"
      ],
      "execution_count": 8,
      "outputs": [
        {
          "output_type": "stream",
          "text": [
            "Model: \"sequential\"\n",
            "_________________________________________________________________\n",
            "Layer (type)                 Output Shape              Param #   \n",
            "=================================================================\n",
            "conv2d (Conv2D)              (None, 256, 256, 64)      1792      \n",
            "_________________________________________________________________\n",
            "leaky_re_lu (LeakyReLU)      (None, 256, 256, 64)      0         \n",
            "_________________________________________________________________\n",
            "conv2d_1 (Conv2D)            (None, 128, 128, 64)      36928     \n",
            "_________________________________________________________________\n",
            "batch_normalization (BatchNo (None, 128, 128, 64)      256       \n",
            "_________________________________________________________________\n",
            "leaky_re_lu_1 (LeakyReLU)    (None, 128, 128, 64)      0         \n",
            "_________________________________________________________________\n",
            "conv2d_2 (Conv2D)            (None, 128, 128, 128)     73856     \n",
            "_________________________________________________________________\n",
            "batch_normalization_1 (Batch (None, 128, 128, 128)     512       \n",
            "_________________________________________________________________\n",
            "leaky_re_lu_2 (LeakyReLU)    (None, 128, 128, 128)     0         \n",
            "_________________________________________________________________\n",
            "conv2d_3 (Conv2D)            (None, 64, 64, 128)       147584    \n",
            "_________________________________________________________________\n",
            "batch_normalization_2 (Batch (None, 64, 64, 128)       512       \n",
            "_________________________________________________________________\n",
            "leaky_re_lu_3 (LeakyReLU)    (None, 64, 64, 128)       0         \n",
            "_________________________________________________________________\n",
            "conv2d_4 (Conv2D)            (None, 64, 64, 256)       295168    \n",
            "_________________________________________________________________\n",
            "batch_normalization_3 (Batch (None, 64, 64, 256)       1024      \n",
            "_________________________________________________________________\n",
            "leaky_re_lu_4 (LeakyReLU)    (None, 64, 64, 256)       0         \n",
            "_________________________________________________________________\n",
            "conv2d_5 (Conv2D)            (None, 32, 32, 256)       590080    \n",
            "_________________________________________________________________\n",
            "batch_normalization_4 (Batch (None, 32, 32, 256)       1024      \n",
            "_________________________________________________________________\n",
            "leaky_re_lu_5 (LeakyReLU)    (None, 32, 32, 256)       0         \n",
            "_________________________________________________________________\n",
            "conv2d_6 (Conv2D)            (None, 32, 32, 512)       1180160   \n",
            "_________________________________________________________________\n",
            "batch_normalization_5 (Batch (None, 32, 32, 512)       2048      \n",
            "_________________________________________________________________\n",
            "leaky_re_lu_6 (LeakyReLU)    (None, 32, 32, 512)       0         \n",
            "_________________________________________________________________\n",
            "conv2d_7 (Conv2D)            (None, 16, 16, 512)       2359808   \n",
            "_________________________________________________________________\n",
            "batch_normalization_6 (Batch (None, 16, 16, 512)       2048      \n",
            "_________________________________________________________________\n",
            "leaky_re_lu_7 (LeakyReLU)    (None, 16, 16, 512)       0         \n",
            "_________________________________________________________________\n",
            "flatten (Flatten)            (None, 131072)            0         \n",
            "_________________________________________________________________\n",
            "dense (Dense)                (None, 1024)              134218752 \n",
            "_________________________________________________________________\n",
            "leaky_re_lu_8 (LeakyReLU)    (None, 1024)              0         \n",
            "_________________________________________________________________\n",
            "dense_1 (Dense)              (None, 1)                 1025      \n",
            "=================================================================\n",
            "Total params: 138,912,577\n",
            "Trainable params: 138,908,865\n",
            "Non-trainable params: 3,712\n",
            "_________________________________________________________________\n"
          ],
          "name": "stdout"
        }
      ]
    },
    {
      "cell_type": "markdown",
      "metadata": {
        "id": "xgqU97dNAUxp",
        "colab_type": "text"
      },
      "source": [
        "# Loading Dataset"
      ]
    },
    {
      "cell_type": "code",
      "metadata": {
        "id": "cpdYYYPzAZJg",
        "colab_type": "code",
        "outputId": "3d2d75ff-8a6d-4c3c-b088-0fce78ce7b71",
        "colab": {
          "base_uri": "https://localhost:8080/",
          "height": 35
        }
      },
      "source": [
        "from google.colab import drive\n",
        "drive.mount('/content/drive')"
      ],
      "execution_count": 2,
      "outputs": [
        {
          "output_type": "stream",
          "text": [
            "Drive already mounted at /content/drive; to attempt to forcibly remount, call drive.mount(\"/content/drive\", force_remount=True).\n"
          ],
          "name": "stdout"
        }
      ]
    },
    {
      "cell_type": "code",
      "metadata": {
        "id": "Wr4xchYWAsvd",
        "colab_type": "code",
        "outputId": "e64d41ff-745e-41fe-cae2-5f46869bbc38",
        "colab": {
          "base_uri": "https://localhost:8080/",
          "height": 35
        }
      },
      "source": [
        "ls"
      ],
      "execution_count": 3,
      "outputs": [
        {
          "output_type": "stream",
          "text": [
            "\u001b[0m\u001b[01;34mdrive\u001b[0m/  \u001b[01;34msample_data\u001b[0m/\n"
          ],
          "name": "stdout"
        }
      ]
    },
    {
      "cell_type": "code",
      "metadata": {
        "id": "01_dG6emBGKK",
        "colab_type": "code",
        "outputId": "f2e4d2a0-f064-4bd0-93d8-799ea4f0bedf",
        "colab": {
          "base_uri": "https://localhost:8080/",
          "height": 35
        }
      },
      "source": [
        "cd 'drive/My Drive/All Project Works/My Fancy Project/Image High Resolution'"
      ],
      "execution_count": 4,
      "outputs": [
        {
          "output_type": "stream",
          "text": [
            "/content/drive/My Drive/All Project Works/My Fancy Project/Image High Resolution\n"
          ],
          "name": "stdout"
        }
      ]
    },
    {
      "cell_type": "code",
      "metadata": {
        "id": "ljtqri2QAtKQ",
        "colab_type": "code",
        "outputId": "fd875516-e27b-427f-fce0-7bc8af11d2a3",
        "colab": {
          "base_uri": "https://localhost:8080/",
          "height": 35
        }
      },
      "source": [
        "print(os.getcwd())"
      ],
      "execution_count": 5,
      "outputs": [
        {
          "output_type": "stream",
          "text": [
            "/content/drive/My Drive/All Project Works/My Fancy Project/Image High Resolution\n"
          ],
          "name": "stdout"
        }
      ]
    },
    {
      "cell_type": "code",
      "metadata": {
        "id": "qdo39ZnAAtS9",
        "colab_type": "code",
        "colab": {}
      },
      "source": [
        "img_file_names = os.listdir(os.getcwd()+'/cars')\n",
        "low_res_img_datapath = os.getcwd() + '/low_res_car_0.3'\n",
        "high_res_img_datapath = os.getcwd() + '/cars'"
      ],
      "execution_count": 0,
      "outputs": []
    },
    {
      "cell_type": "code",
      "metadata": {
        "id": "FoRBwXe7K7y2",
        "colab_type": "code",
        "colab": {}
      },
      "source": [
        ""
      ],
      "execution_count": 0,
      "outputs": []
    },
    {
      "cell_type": "markdown",
      "metadata": {
        "id": "6lmjD8toa4t5",
        "colab_type": "text"
      },
      "source": [
        "# The Adversial Network"
      ]
    },
    {
      "cell_type": "code",
      "metadata": {
        "id": "i8j9t35ga8j-",
        "colab_type": "code",
        "outputId": "1b209023-6bf4-4d32-ba18-a542aee6c198",
        "colab": {
          "base_uri": "https://localhost:8080/",
          "height": 344
        }
      },
      "source": [
        "from tensorflow.keras.applications.vgg19 import VGG19\n",
        "\n",
        "\n",
        "vgg_model = VGG19(include_top= False)\n",
        "\n",
        "discriminator.trainable = False\n",
        "vgg_model.trainable = False\n",
        "\n",
        "input_low_res_img_layer = tf.keras.layers.Input(shape=(64,64,3))\n",
        "input_high_res_img_layer = tf.keras.layers.Input(shape=(256,256,3))\n",
        "generated_image = generator(input_low_res_img_layer)\n",
        "discriminator_output = discriminator(generated_image)\n",
        "fake_features = vgg_model(generated_image)\n",
        "\n",
        "GAN_model = tf.keras.models.Model(inputs = [input_low_res_img_layer,input_high_res_img_layer], outputs = [discriminator_output,fake_features])\n",
        "GAN_model.summary()"
      ],
      "execution_count": 11,
      "outputs": [
        {
          "output_type": "stream",
          "text": [
            "Model: \"model_1\"\n",
            "__________________________________________________________________________________________________\n",
            "Layer (type)                    Output Shape         Param #     Connected to                     \n",
            "==================================================================================================\n",
            "input_7 (InputLayer)            [(None, 64, 64, 3)]  0                                            \n",
            "__________________________________________________________________________________________________\n",
            "model (Model)                   (None, 256, 256, 3)  23768515    input_7[0][0]                    \n",
            "__________________________________________________________________________________________________\n",
            "input_8 (InputLayer)            [(None, 256, 256, 3) 0                                            \n",
            "__________________________________________________________________________________________________\n",
            "sequential (Sequential)         (None, 1)            138912577   model[1][0]                      \n",
            "__________________________________________________________________________________________________\n",
            "vgg19 (Model)                   multiple             20024384    model[1][0]                      \n",
            "==================================================================================================\n",
            "Total params: 182,705,476\n",
            "Trainable params: 23,767,363\n",
            "Non-trainable params: 158,938,113\n",
            "__________________________________________________________________________________________________\n"
          ],
          "name": "stdout"
        }
      ]
    },
    {
      "cell_type": "code",
      "metadata": {
        "id": "KbGplyaXjehE",
        "colab_type": "code",
        "colab": {}
      },
      "source": [
        "my_optimizer = tf.keras.optimizers.Adam(learning_rate=0.001)\n",
        "\n",
        "vgg_model.compile(loss='mse', optimizer=my_optimizer, metrics=['accuracy'])\n",
        "discriminator.compile(loss='binary_crossentropy', optimizer= my_optimizer, metrics=['accuracy'])\n",
        "GAN_model.compile(loss=['binary_crossentropy','mse'], loss_weights=[1e-3,1],metrics=['accuracy'])"
      ],
      "execution_count": 0,
      "outputs": []
    },
    {
      "cell_type": "markdown",
      "metadata": {
        "id": "WPMANrk_xi1v",
        "colab_type": "text"
      },
      "source": [
        "# Training"
      ]
    },
    {
      "cell_type": "code",
      "metadata": {
        "id": "81Aenmebxkik",
        "colab_type": "code",
        "colab": {}
      },
      "source": [
        "no_of_epochs = 100\n",
        "batch_size = 8\n",
        "low_res_shape = (64,64,3)\n",
        "high_res_shape = (256,256,3)"
      ],
      "execution_count": 0,
      "outputs": []
    },
    {
      "cell_type": "code",
      "metadata": {
        "id": "qtVnBIWlDnQ7",
        "colab_type": "code",
        "colab": {
          "base_uri": "https://localhost:8080/",
          "height": 35
        },
        "outputId": "7621fe4f-f41d-4720-9370-bfa907770062"
      },
      "source": [
        "from keras.callbacks import TensorBoard\n",
        "import time\n",
        "import skimage\n",
        "from skimage.transform import resize\n",
        "\n",
        "tensorboard = TensorBoard(log_dir=\"logs/\".format(time.time()))\n",
        "tensorboard.set_model(generator)\n",
        "tensorboard.set_model(discriminator)"
      ],
      "execution_count": 14,
      "outputs": [
        {
          "output_type": "stream",
          "text": [
            "Using TensorFlow backend.\n"
          ],
          "name": "stderr"
        }
      ]
    },
    {
      "cell_type": "code",
      "metadata": {
        "id": "NqmLpp1OGP3B",
        "colab_type": "code",
        "outputId": "b6aff188-98d3-49cb-8ae4-94b145aa2054",
        "colab": {
          "base_uri": "https://localhost:8080/",
          "height": 35
        }
      },
      "source": [
        "len(img_file_names)"
      ],
      "execution_count": 15,
      "outputs": [
        {
          "output_type": "execute_result",
          "data": {
            "text/plain": [
              "7383"
            ]
          },
          "metadata": {
            "tags": []
          },
          "execution_count": 15
        }
      ]
    },
    {
      "cell_type": "code",
      "metadata": {
        "id": "Klywr5TL89CL",
        "colab_type": "code",
        "outputId": "28957bf0-e041-43b5-9598-8003e4f9f91a",
        "colab": {
          "base_uri": "https://localhost:8080/",
          "height": 1000
        }
      },
      "source": [
        "for ep in tqdm(range(no_of_epochs)):\n",
        "  print(\"\\n=======================================Epoch No. {}/{}========================================\\n\\n\\n\".format(ep+1,no_of_epochs))\n",
        "\n",
        "  for mini_batch_no in range(int(len(img_file_names)/batch_size)):\n",
        "\n",
        "    print(\"\\n----------------Mini Batch No.{}/{}-------------------\\n\".format(mini_batch_no+1,int(len(img_file_names)/batch_size)))\n",
        "    mini_batch_img_names = img_file_names[mini_batch_no * batch_size : (mini_batch_no+1)*batch_size]\n",
        "\n",
        "    low_res_img_batch = []\n",
        "    high_res_img_batch = []\n",
        "\n",
        "\n",
        "    for filename in mini_batch_img_names:\n",
        "\n",
        "      low_res_path = os.path.join(low_res_img_datapath,filename)\n",
        "      high_res_path = os.path.join(high_res_img_datapath,filename)\n",
        "\n",
        "      low_res_img = plt.imread(low_res_path)\n",
        "      high_res_img = plt.imread(high_res_path) \n",
        "\n",
        "      low_res_img = skimage.transform.resize(low_res_img,low_res_shape)/127.5 - 1 #limiting in range [-1,1]\n",
        "      high_res_img = skimage.transform.resize(high_res_img,high_res_shape)/127.5 - 1 #limiting in range [-1,1]\n",
        "\n",
        "      low_res_img_batch.append(low_res_img)\n",
        "      high_res_img_batch.append(high_res_img)\n",
        "\n",
        "    low_res_img_batch = np.array(low_res_img_batch)\n",
        "    high_res_img_batch = np.array(high_res_img_batch)\n",
        "\n",
        "    \n",
        "\n",
        "    generated_images = generator(low_res_img_batch)\n",
        "\n",
        "    real_and_fake_images = np.concatenate([generated_images,high_res_img_batch],axis=0)\n",
        "    real_and_fake_labels = np.concatenate([np.zeros((batch_size)),np.ones((batch_size))])\n",
        "\n",
        "    indices = np.random.choice(range(batch_size*2),size=(batch_size*2),replace=False)\n",
        "\n",
        "    real_and_fake_images = real_and_fake_images[indices]\n",
        "    real_and_fake_labels = real_and_fake_labels[indices]\n",
        "    \n",
        "\n",
        "    discriminator.trainable = True\n",
        "    discriminator.fit(real_and_fake_images,real_and_fake_labels)\n",
        "    discriminator.trainable = False\n",
        "\n",
        "    GAN_model.fit([low_res_img_batch,high_res_img_batch],[np.ones((batch_size,1)),vgg_model(high_res_img_batch)])\n",
        "\n",
        "\n",
        "\n",
        "\n"
      ],
      "execution_count": 0,
      "outputs": [
        {
          "output_type": "stream",
          "text": [
            "\n",
            "\n",
            "\n",
            "  0%|          | 0/20000 [00:00<?, ?it/s]\u001b[A\u001b[A\u001b[A"
          ],
          "name": "stderr"
        },
        {
          "output_type": "stream",
          "text": [
            "\n",
            "=======================================Epoch No. 1/20000========================================\n",
            "\n",
            "\n",
            "\n",
            "\n",
            "----------------Mini Batch No.1/7383-------------------\n",
            "\n",
            "1/1 [==============================] - 0s 1ms/step - loss: 0.6927 - accuracy: 0.5000\n",
            "1/1 [==============================] - 0s 1ms/step - loss: 0.0201 - sequential_loss: 0.6911 - vgg19_loss: 0.0194 - sequential_accuracy: 1.0000 - vgg19_accuracy: 1.0000\n",
            "\n",
            "----------------Mini Batch No.2/7383-------------------\n",
            "\n",
            "1/1 [==============================] - 0s 1ms/step - loss: 0.6927 - accuracy: 0.5000\n",
            "1/1 [==============================] - 0s 1ms/step - loss: 0.0203 - sequential_loss: 0.6911 - vgg19_loss: 0.0197 - sequential_accuracy: 1.0000 - vgg19_accuracy: 1.0000\n",
            "\n",
            "----------------Mini Batch No.3/7383-------------------\n",
            "\n",
            "1/1 [==============================] - 0s 994us/step - loss: 0.6927 - accuracy: 0.5000\n",
            "1/1 [==============================] - 0s 1ms/step - loss: 0.0202 - sequential_loss: 0.6911 - vgg19_loss: 0.0195 - sequential_accuracy: 1.0000 - vgg19_accuracy: 1.0000\n",
            "\n",
            "----------------Mini Batch No.4/7383-------------------\n",
            "\n",
            "1/1 [==============================] - 0s 1ms/step - loss: 0.6927 - accuracy: 0.5000\n",
            "1/1 [==============================] - 0s 1ms/step - loss: 0.0199 - sequential_loss: 0.6911 - vgg19_loss: 0.0192 - sequential_accuracy: 1.0000 - vgg19_accuracy: 1.0000\n",
            "\n",
            "----------------Mini Batch No.5/7383-------------------\n",
            "\n",
            "1/1 [==============================] - 0s 1ms/step - loss: 0.6927 - accuracy: 0.5000\n",
            "1/1 [==============================] - 0s 1ms/step - loss: 0.0203 - sequential_loss: 0.6911 - vgg19_loss: 0.0196 - sequential_accuracy: 1.0000 - vgg19_accuracy: 1.0000\n",
            "\n",
            "----------------Mini Batch No.6/7383-------------------\n",
            "\n",
            "1/1 [==============================] - 0s 1ms/step - loss: 0.6927 - accuracy: 0.5000\n",
            "1/1 [==============================] - 0s 1ms/step - loss: 0.0201 - sequential_loss: 0.6911 - vgg19_loss: 0.0195 - sequential_accuracy: 1.0000 - vgg19_accuracy: 1.0000\n",
            "\n",
            "----------------Mini Batch No.7/7383-------------------\n",
            "\n",
            "1/1 [==============================] - 0s 1ms/step - loss: 0.6927 - accuracy: 0.5000\n",
            "1/1 [==============================] - 0s 1ms/step - loss: 0.0200 - sequential_loss: 0.6911 - vgg19_loss: 0.0193 - sequential_accuracy: 1.0000 - vgg19_accuracy: 1.0000\n",
            "\n",
            "----------------Mini Batch No.8/7383-------------------\n",
            "\n",
            "1/1 [==============================] - 0s 1ms/step - loss: 0.6927 - accuracy: 0.5000\n",
            "1/1 [==============================] - 0s 1ms/step - loss: 0.0201 - sequential_loss: 0.6911 - vgg19_loss: 0.0194 - sequential_accuracy: 1.0000 - vgg19_accuracy: 1.0000\n",
            "\n",
            "----------------Mini Batch No.9/7383-------------------\n",
            "\n",
            "1/1 [==============================] - 0s 4ms/step - loss: 0.6927 - accuracy: 0.5000\n",
            "1/1 [==============================] - 0s 1ms/step - loss: 0.0203 - sequential_loss: 0.6911 - vgg19_loss: 0.0196 - sequential_accuracy: 1.0000 - vgg19_accuracy: 1.0000\n",
            "\n",
            "----------------Mini Batch No.10/7383-------------------\n",
            "\n",
            "1/1 [==============================] - 0s 1ms/step - loss: 0.6927 - accuracy: 0.5000\n",
            "1/1 [==============================] - 0s 1ms/step - loss: 0.0203 - sequential_loss: 0.6911 - vgg19_loss: 0.0196 - sequential_accuracy: 1.0000 - vgg19_accuracy: 1.0000\n",
            "\n",
            "----------------Mini Batch No.11/7383-------------------\n",
            "\n",
            "1/1 [==============================] - 0s 1ms/step - loss: 0.6927 - accuracy: 0.5000\n",
            "1/1 [==============================] - 0s 2ms/step - loss: 0.0203 - sequential_loss: 0.6911 - vgg19_loss: 0.0196 - sequential_accuracy: 1.0000 - vgg19_accuracy: 1.0000\n",
            "\n",
            "----------------Mini Batch No.12/7383-------------------\n",
            "\n",
            "1/1 [==============================] - 0s 1ms/step - loss: 0.6927 - accuracy: 0.5000\n",
            "1/1 [==============================] - 0s 964us/step - loss: 0.0204 - sequential_loss: 0.6911 - vgg19_loss: 0.0197 - sequential_accuracy: 1.0000 - vgg19_accuracy: 1.0000\n",
            "\n",
            "----------------Mini Batch No.13/7383-------------------\n",
            "\n",
            "1/1 [==============================] - 0s 996us/step - loss: 0.6927 - accuracy: 0.5000\n",
            "1/1 [==============================] - 0s 1ms/step - loss: 0.0202 - sequential_loss: 0.6911 - vgg19_loss: 0.0195 - sequential_accuracy: 1.0000 - vgg19_accuracy: 1.0000\n",
            "\n",
            "----------------Mini Batch No.14/7383-------------------\n",
            "\n",
            "1/1 [==============================] - 0s 3ms/step - loss: 0.6927 - accuracy: 0.5000\n",
            "1/1 [==============================] - 0s 1ms/step - loss: 0.0203 - sequential_loss: 0.6911 - vgg19_loss: 0.0196 - sequential_accuracy: 1.0000 - vgg19_accuracy: 1.0000\n",
            "\n",
            "----------------Mini Batch No.15/7383-------------------\n",
            "\n",
            "1/1 [==============================] - 0s 978us/step - loss: 0.6927 - accuracy: 0.5000\n",
            "1/1 [==============================] - 0s 1ms/step - loss: 0.0201 - sequential_loss: 0.6911 - vgg19_loss: 0.0195 - sequential_accuracy: 1.0000 - vgg19_accuracy: 1.0000\n",
            "\n",
            "----------------Mini Batch No.16/7383-------------------\n",
            "\n",
            "1/1 [==============================] - 0s 5ms/step - loss: 0.6927 - accuracy: 0.5000\n",
            "1/1 [==============================] - 0s 1ms/step - loss: 0.0203 - sequential_loss: 0.6911 - vgg19_loss: 0.0196 - sequential_accuracy: 1.0000 - vgg19_accuracy: 1.0000\n",
            "\n",
            "----------------Mini Batch No.17/7383-------------------\n",
            "\n",
            "1/1 [==============================] - 0s 943us/step - loss: 0.6927 - accuracy: 0.5000\n",
            "1/1 [==============================] - 0s 1ms/step - loss: 0.0202 - sequential_loss: 0.6911 - vgg19_loss: 0.0196 - sequential_accuracy: 1.0000 - vgg19_accuracy: 1.0000\n",
            "\n",
            "----------------Mini Batch No.18/7383-------------------\n",
            "\n",
            "1/1 [==============================] - 0s 979us/step - loss: 0.6927 - accuracy: 0.5000\n",
            "1/1 [==============================] - 0s 1ms/step - loss: 0.0202 - sequential_loss: 0.6911 - vgg19_loss: 0.0195 - sequential_accuracy: 1.0000 - vgg19_accuracy: 1.0000\n",
            "\n",
            "----------------Mini Batch No.19/7383-------------------\n",
            "\n",
            "1/1 [==============================] - 0s 887us/step - loss: 0.6927 - accuracy: 0.5000\n",
            "1/1 [==============================] - 0s 1ms/step - loss: 0.0201 - sequential_loss: 0.6911 - vgg19_loss: 0.0194 - sequential_accuracy: 1.0000 - vgg19_accuracy: 1.0000\n",
            "\n",
            "----------------Mini Batch No.20/7383-------------------\n",
            "\n",
            "1/1 [==============================] - 0s 989us/step - loss: 0.6927 - accuracy: 0.5000\n",
            "1/1 [==============================] - 0s 1ms/step - loss: 0.0202 - sequential_loss: 0.6911 - vgg19_loss: 0.0195 - sequential_accuracy: 1.0000 - vgg19_accuracy: 1.0000\n",
            "\n",
            "----------------Mini Batch No.21/7383-------------------\n",
            "\n",
            "1/1 [==============================] - 0s 956us/step - loss: 0.6927 - accuracy: 0.5000\n",
            "1/1 [==============================] - 0s 1ms/step - loss: 0.0202 - sequential_loss: 0.6911 - vgg19_loss: 0.0195 - sequential_accuracy: 1.0000 - vgg19_accuracy: 1.0000\n",
            "\n",
            "----------------Mini Batch No.22/7383-------------------\n",
            "\n",
            "1/1 [==============================] - 0s 2ms/step - loss: 0.6927 - accuracy: 0.5000\n",
            "1/1 [==============================] - 0s 1ms/step - loss: 0.0203 - sequential_loss: 0.6911 - vgg19_loss: 0.0196 - sequential_accuracy: 1.0000 - vgg19_accuracy: 1.0000\n",
            "\n",
            "----------------Mini Batch No.23/7383-------------------\n",
            "\n",
            "1/1 [==============================] - 0s 1ms/step - loss: 0.6927 - accuracy: 0.5000\n",
            "1/1 [==============================] - 0s 1ms/step - loss: 0.0200 - sequential_loss: 0.6911 - vgg19_loss: 0.0194 - sequential_accuracy: 1.0000 - vgg19_accuracy: 1.0000\n",
            "\n",
            "----------------Mini Batch No.24/7383-------------------\n",
            "\n",
            "1/1 [==============================] - 0s 952us/step - loss: 0.6927 - accuracy: 0.5000\n",
            "1/1 [==============================] - 0s 998us/step - loss: 0.0202 - sequential_loss: 0.6911 - vgg19_loss: 0.0195 - sequential_accuracy: 1.0000 - vgg19_accuracy: 1.0000\n",
            "\n",
            "----------------Mini Batch No.25/7383-------------------\n",
            "\n",
            "1/1 [==============================] - 0s 987us/step - loss: 0.6927 - accuracy: 0.5000\n",
            "1/1 [==============================] - 0s 1ms/step - loss: 0.0201 - sequential_loss: 0.6911 - vgg19_loss: 0.0194 - sequential_accuracy: 1.0000 - vgg19_accuracy: 1.0000\n",
            "\n",
            "----------------Mini Batch No.26/7383-------------------\n",
            "\n",
            "1/1 [==============================] - 0s 1ms/step - loss: 0.6927 - accuracy: 0.5000\n",
            "1/1 [==============================] - 0s 1ms/step - loss: 0.0204 - sequential_loss: 0.6911 - vgg19_loss: 0.0197 - sequential_accuracy: 1.0000 - vgg19_accuracy: 1.0000\n",
            "\n",
            "----------------Mini Batch No.27/7383-------------------\n",
            "\n",
            "1/1 [==============================] - 0s 4ms/step - loss: 0.6927 - accuracy: 0.5000\n",
            "1/1 [==============================] - 0s 1ms/step - loss: 0.0202 - sequential_loss: 0.6911 - vgg19_loss: 0.0195 - sequential_accuracy: 1.0000 - vgg19_accuracy: 1.0000\n",
            "\n",
            "----------------Mini Batch No.28/7383-------------------\n",
            "\n",
            "1/1 [==============================] - 0s 1ms/step - loss: 0.6927 - accuracy: 0.5000\n",
            "1/1 [==============================] - 0s 1ms/step - loss: 0.0202 - sequential_loss: 0.6911 - vgg19_loss: 0.0195 - sequential_accuracy: 1.0000 - vgg19_accuracy: 1.0000\n",
            "\n",
            "----------------Mini Batch No.29/7383-------------------\n",
            "\n",
            "1/1 [==============================] - 0s 1ms/step - loss: 0.6927 - accuracy: 0.5000\n",
            "1/1 [==============================] - 0s 1ms/step - loss: 0.0202 - sequential_loss: 0.6911 - vgg19_loss: 0.0195 - sequential_accuracy: 1.0000 - vgg19_accuracy: 1.0000\n",
            "\n",
            "----------------Mini Batch No.30/7383-------------------\n",
            "\n",
            "1/1 [==============================] - 0s 3ms/step - loss: 0.6927 - accuracy: 0.5000\n",
            "1/1 [==============================] - 0s 1ms/step - loss: 0.0203 - sequential_loss: 0.6911 - vgg19_loss: 0.0197 - sequential_accuracy: 1.0000 - vgg19_accuracy: 1.0000\n",
            "\n",
            "----------------Mini Batch No.31/7383-------------------\n",
            "\n",
            "1/1 [==============================] - 0s 5ms/step - loss: 0.6927 - accuracy: 0.5000\n",
            "1/1 [==============================] - 0s 974us/step - loss: 0.0204 - sequential_loss: 0.6911 - vgg19_loss: 0.0197 - sequential_accuracy: 1.0000 - vgg19_accuracy: 1.0000\n",
            "\n",
            "----------------Mini Batch No.32/7383-------------------\n",
            "\n",
            "1/1 [==============================] - 0s 983us/step - loss: 0.6927 - accuracy: 0.5000\n",
            "1/1 [==============================] - 0s 1ms/step - loss: 0.0202 - sequential_loss: 0.6911 - vgg19_loss: 0.0195 - sequential_accuracy: 1.0000 - vgg19_accuracy: 1.0000\n",
            "\n",
            "----------------Mini Batch No.33/7383-------------------\n",
            "\n",
            "1/1 [==============================] - 0s 1ms/step - loss: 0.6927 - accuracy: 0.5000\n",
            "1/1 [==============================] - 0s 1ms/step - loss: 0.0203 - sequential_loss: 0.6911 - vgg19_loss: 0.0196 - sequential_accuracy: 1.0000 - vgg19_accuracy: 1.0000\n",
            "\n",
            "----------------Mini Batch No.34/7383-------------------\n",
            "\n",
            "1/1 [==============================] - 0s 1ms/step - loss: 0.6927 - accuracy: 0.5000\n",
            "1/1 [==============================] - 0s 1ms/step - loss: 0.0202 - sequential_loss: 0.6911 - vgg19_loss: 0.0196 - sequential_accuracy: 1.0000 - vgg19_accuracy: 1.0000\n",
            "\n",
            "----------------Mini Batch No.35/7383-------------------\n",
            "\n",
            "1/1 [==============================] - 0s 1ms/step - loss: 0.6927 - accuracy: 0.5000\n",
            "1/1 [==============================] - 0s 1ms/step - loss: 0.0204 - sequential_loss: 0.6911 - vgg19_loss: 0.0197 - sequential_accuracy: 1.0000 - vgg19_accuracy: 1.0000\n",
            "\n",
            "----------------Mini Batch No.36/7383-------------------\n",
            "\n",
            "1/1 [==============================] - 0s 4ms/step - loss: 0.6927 - accuracy: 0.5000\n",
            "1/1 [==============================] - 0s 1ms/step - loss: 0.0203 - sequential_loss: 0.6911 - vgg19_loss: 0.0196 - sequential_accuracy: 1.0000 - vgg19_accuracy: 1.0000\n",
            "\n",
            "----------------Mini Batch No.37/7383-------------------\n",
            "\n"
          ],
          "name": "stdout"
        },
        {
          "output_type": "error",
          "ename": "KeyboardInterrupt",
          "evalue": "ignored",
          "traceback": [
            "\u001b[0;31m---------------------------------------------------------------------------\u001b[0m",
            "\u001b[0;31mKeyboardInterrupt\u001b[0m                         Traceback (most recent call last)",
            "\u001b[0;32m<ipython-input-24-fc48f8feaa9a>\u001b[0m in \u001b[0;36m<module>\u001b[0;34m()\u001b[0m\n\u001b[1;32m     20\u001b[0m \u001b[0;34m\u001b[0m\u001b[0m\n\u001b[1;32m     21\u001b[0m       \u001b[0mlow_res_img\u001b[0m \u001b[0;34m=\u001b[0m \u001b[0mskimage\u001b[0m\u001b[0;34m.\u001b[0m\u001b[0mtransform\u001b[0m\u001b[0;34m.\u001b[0m\u001b[0mresize\u001b[0m\u001b[0;34m(\u001b[0m\u001b[0mlow_res_img\u001b[0m\u001b[0;34m,\u001b[0m\u001b[0mlow_res_shape\u001b[0m\u001b[0;34m)\u001b[0m\u001b[0;34m/\u001b[0m\u001b[0;36m127.5\u001b[0m \u001b[0;34m-\u001b[0m \u001b[0;36m1\u001b[0m \u001b[0;31m#limiting in range [-1,1]\u001b[0m\u001b[0;34m\u001b[0m\u001b[0;34m\u001b[0m\u001b[0m\n\u001b[0;32m---> 22\u001b[0;31m       \u001b[0mhigh_res_img\u001b[0m \u001b[0;34m=\u001b[0m \u001b[0mskimage\u001b[0m\u001b[0;34m.\u001b[0m\u001b[0mtransform\u001b[0m\u001b[0;34m.\u001b[0m\u001b[0mresize\u001b[0m\u001b[0;34m(\u001b[0m\u001b[0mhigh_res_img\u001b[0m\u001b[0;34m,\u001b[0m\u001b[0mhigh_res_shape\u001b[0m\u001b[0;34m)\u001b[0m\u001b[0;34m/\u001b[0m\u001b[0;36m127.5\u001b[0m \u001b[0;34m-\u001b[0m \u001b[0;36m1\u001b[0m \u001b[0;31m#limiting in range [-1,1]\u001b[0m\u001b[0;34m\u001b[0m\u001b[0;34m\u001b[0m\u001b[0m\n\u001b[0m\u001b[1;32m     23\u001b[0m \u001b[0;34m\u001b[0m\u001b[0m\n\u001b[1;32m     24\u001b[0m       \u001b[0mlow_res_img_batch\u001b[0m\u001b[0;34m.\u001b[0m\u001b[0mappend\u001b[0m\u001b[0;34m(\u001b[0m\u001b[0mlow_res_img\u001b[0m\u001b[0;34m)\u001b[0m\u001b[0;34m\u001b[0m\u001b[0;34m\u001b[0m\u001b[0m\n",
            "\u001b[0;32m/usr/local/lib/python3.6/dist-packages/skimage/transform/_warps.py\u001b[0m in \u001b[0;36mresize\u001b[0;34m(image, output_shape, order, mode, cval, clip, preserve_range, anti_aliasing, anti_aliasing_sigma)\u001b[0m\n\u001b[1;32m    164\u001b[0m         out = warp(image, tform, output_shape=output_shape, order=order,\n\u001b[1;32m    165\u001b[0m                    \u001b[0mmode\u001b[0m\u001b[0;34m=\u001b[0m\u001b[0mmode\u001b[0m\u001b[0;34m,\u001b[0m \u001b[0mcval\u001b[0m\u001b[0;34m=\u001b[0m\u001b[0mcval\u001b[0m\u001b[0;34m,\u001b[0m \u001b[0mclip\u001b[0m\u001b[0;34m=\u001b[0m\u001b[0mclip\u001b[0m\u001b[0;34m,\u001b[0m\u001b[0;34m\u001b[0m\u001b[0;34m\u001b[0m\u001b[0m\n\u001b[0;32m--> 166\u001b[0;31m                    preserve_range=preserve_range)\n\u001b[0m\u001b[1;32m    167\u001b[0m \u001b[0;34m\u001b[0m\u001b[0m\n\u001b[1;32m    168\u001b[0m     \u001b[0;32melse\u001b[0m\u001b[0;34m:\u001b[0m  \u001b[0;31m# n-dimensional interpolation\u001b[0m\u001b[0;34m\u001b[0m\u001b[0;34m\u001b[0m\u001b[0m\n",
            "\u001b[0;32m/usr/local/lib/python3.6/dist-packages/skimage/transform/_warps.py\u001b[0m in \u001b[0;36mwarp\u001b[0;34m(image, inverse_map, map_args, output_shape, order, mode, cval, clip, preserve_range)\u001b[0m\n\u001b[1;32m    861\u001b[0m                                                   \u001b[0moutput_shape\u001b[0m\u001b[0;34m=\u001b[0m\u001b[0moutput_shape\u001b[0m\u001b[0;34m,\u001b[0m\u001b[0;34m\u001b[0m\u001b[0;34m\u001b[0m\u001b[0m\n\u001b[1;32m    862\u001b[0m                                                   \u001b[0morder\u001b[0m\u001b[0;34m=\u001b[0m\u001b[0morder\u001b[0m\u001b[0;34m,\u001b[0m \u001b[0mmode\u001b[0m\u001b[0;34m=\u001b[0m\u001b[0mmode\u001b[0m\u001b[0;34m,\u001b[0m\u001b[0;34m\u001b[0m\u001b[0;34m\u001b[0m\u001b[0m\n\u001b[0;32m--> 863\u001b[0;31m                                                   cval=cval))\n\u001b[0m\u001b[1;32m    864\u001b[0m                 \u001b[0mwarped\u001b[0m \u001b[0;34m=\u001b[0m \u001b[0mnp\u001b[0m\u001b[0;34m.\u001b[0m\u001b[0mdstack\u001b[0m\u001b[0;34m(\u001b[0m\u001b[0mdims\u001b[0m\u001b[0;34m)\u001b[0m\u001b[0;34m\u001b[0m\u001b[0;34m\u001b[0m\u001b[0m\n\u001b[1;32m    865\u001b[0m \u001b[0;34m\u001b[0m\u001b[0m\n",
            "\u001b[0;32mskimage/transform/_warps_cy.pyx\u001b[0m in \u001b[0;36mskimage.transform._warps_cy._warp_fast\u001b[0;34m()\u001b[0m\n",
            "\u001b[0;32m/usr/local/lib/python3.6/dist-packages/numpy/core/_asarray.py\u001b[0m in \u001b[0;36masarray\u001b[0;34m(a, dtype, order)\u001b[0m\n\u001b[1;32m     14\u001b[0m ]\n\u001b[1;32m     15\u001b[0m \u001b[0;34m\u001b[0m\u001b[0m\n\u001b[0;32m---> 16\u001b[0;31m \u001b[0;34m@\u001b[0m\u001b[0mset_module\u001b[0m\u001b[0;34m(\u001b[0m\u001b[0;34m'numpy'\u001b[0m\u001b[0;34m)\u001b[0m\u001b[0;34m\u001b[0m\u001b[0;34m\u001b[0m\u001b[0m\n\u001b[0m\u001b[1;32m     17\u001b[0m \u001b[0;32mdef\u001b[0m \u001b[0masarray\u001b[0m\u001b[0;34m(\u001b[0m\u001b[0ma\u001b[0m\u001b[0;34m,\u001b[0m \u001b[0mdtype\u001b[0m\u001b[0;34m=\u001b[0m\u001b[0;32mNone\u001b[0m\u001b[0;34m,\u001b[0m \u001b[0morder\u001b[0m\u001b[0;34m=\u001b[0m\u001b[0;32mNone\u001b[0m\u001b[0;34m)\u001b[0m\u001b[0;34m:\u001b[0m\u001b[0;34m\u001b[0m\u001b[0;34m\u001b[0m\u001b[0m\n\u001b[1;32m     18\u001b[0m     \"\"\"Convert the input to an array.\n",
            "\u001b[0;31mKeyboardInterrupt\u001b[0m: "
          ]
        }
      ]
    },
    {
      "cell_type": "code",
      "metadata": {
        "id": "ybM3j8CkT6zN",
        "colab_type": "code",
        "colab": {}
      },
      "source": [
        ""
      ],
      "execution_count": 0,
      "outputs": []
    }
  ]
}